{
  "nbformat": 4,
  "nbformat_minor": 0,
  "metadata": {
    "colab": {
      "name": "Untitled0.ipynb",
      "version": "0.3.2",
      "provenance": [],
      "include_colab_link": true
    },
    "kernelspec": {
      "name": "python3",
      "display_name": "Python 3"
    },
    "accelerator": "GPU"
  },
  "cells": [
    {
      "cell_type": "markdown",
      "metadata": {
        "id": "view-in-github",
        "colab_type": "text"
      },
      "source": [
        "[View in Colaboratory](https://colab.research.google.com/github/josesaribeiro/lock/blob/master/experimentos_deep_learning.ipynb)"
      ]
    },
    {
      "metadata": {
        "id": "IoeUgW6T5UTe",
        "colab_type": "text"
      },
      "cell_type": "markdown",
      "source": [
        "Experimentos - Deep Learning"
      ]
    },
    {
      "metadata": {
        "id": "PLm-2wjX5Knp",
        "colab_type": "code",
        "colab": {
          "base_uri": "https://localhost:8080/",
          "height": 36
        },
        "outputId": "32b1c9fa-3b9d-4d36-a223-8434d78143e2"
      },
      "cell_type": "code",
      "source": [
        "print('Hello')"
      ],
      "execution_count": 1,
      "outputs": [
        {
          "output_type": "stream",
          "text": [
            "Hello\n"
          ],
          "name": "stdout"
        }
      ]
    },
    {
      "metadata": {
        "id": "IY0iOaUs5TjL",
        "colab_type": "code",
        "colab": {}
      },
      "cell_type": "code",
      "source": [
        "import py"
      ],
      "execution_count": 0,
      "outputs": []
    }
  ]
}